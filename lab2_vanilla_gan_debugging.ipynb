{
  "cells": [
    {
      "cell_type": "markdown",
      "metadata": {
        "id": "view-in-github",
        "colab_type": "text"
      },
      "source": [
        "<a href=\"https://colab.research.google.com/github/WedyanFawaz/advanced_ai_exercises/blob/main/lab2_vanilla_gan_debugging.ipynb\" target=\"_parent\"><img src=\"https://colab.research.google.com/assets/colab-badge.svg\" alt=\"Open In Colab\"/></a>"
      ]
    },
    {
      "cell_type": "markdown",
      "metadata": {
        "id": "IzqSBenwOXef"
      },
      "source": [
        "# Lab 2: Debug a Broken Vanilla GAN (find 12+ issues)"
      ],
      "id": "IzqSBenwOXef"
    },
    {
      "cell_type": "code",
      "source": [
        "import torch, torchvision, torch.nn as nn\n",
        "from torch.utils.data import DataLoader\n",
        "from torchvision import transforms\n",
        "import torch"
      ],
      "metadata": {
        "id": "G1BnBu76Oax2"
      },
      "id": "G1BnBu76Oax2",
      "execution_count": 11,
      "outputs": []
    },
    {
      "cell_type": "code",
      "source": [
        "device=torch.device('cuda' if torch.cuda.is_available() else 'cpu')\n",
        "transform=transforms.Compose([transforms.ToTensor(), transforms.Normalize([0.5],[.5])])  # BUG normalize"
      ],
      "metadata": {
        "id": "ytWyN3TKOhV2"
      },
      "id": "ytWyN3TKOhV2",
      "execution_count": 17,
      "outputs": []
    },
    {
      "cell_type": "code",
      "source": [
        "loader=DataLoader(torchvision.datasets.MNIST('./data',download=True,train=True,transform=transform),batch_size=256,shuffle=True,num_workers=2,pin_memory=True)"
      ],
      "metadata": {
        "id": "I7iHzLR1OliJ"
      },
      "id": "I7iHzLR1OliJ",
      "execution_count": 18,
      "outputs": []
    },
    {
      "cell_type": "code",
      "source": [
        "len(loader.dataset[0][0])"
      ],
      "metadata": {
        "colab": {
          "base_uri": "https://localhost:8080/"
        },
        "id": "nL7tZCNVSjeC",
        "outputId": "f524099c-0d64-435d-ebcd-335c46a47ca7"
      },
      "id": "nL7tZCNVSjeC",
      "execution_count": 78,
      "outputs": [
        {
          "output_type": "execute_result",
          "data": {
            "text/plain": [
              "1"
            ]
          },
          "metadata": {},
          "execution_count": 78
        }
      ]
    },
    {
      "cell_type": "code",
      "metadata": {
        "id": "seoEnrxKOXei"
      },
      "execution_count": 57,
      "outputs": [],
      "source": [
        "z_dim=100; g_lr=2e-2; d_lr=2e-5\n",
        "class D(nn.Module):\n",
        "    def __init__(self):\n",
        "        super().__init__();\n",
        "        self.net=nn.Sequential(\n",
        "            nn.Conv2d(1,32,4,2,1),\n",
        "            nn.LeakyReLU(0.2,True),\n",
        "            nn.Conv2d(32,64,4,2,1),\n",
        "            nn.BatchNorm2d(64),\n",
        "            nn.LeakyReLU(0.2,True),\n",
        "            nn.Conv2d(64,1,7,1,0),\n",
        "            nn.Sigmoid())\n",
        "    def forward(self,x):return self.net(x).view(x.size(0),1)\n"
      ],
      "id": "seoEnrxKOXei"
    },
    {
      "cell_type": "code",
      "source": [
        "class G(nn.Module):\n",
        "    def __init__(self):\n",
        "        super().__init__();\n",
        "        self.net=nn.Sequential(\n",
        "            nn.ConvTranspose2d(100,128,7,1,0),\n",
        "            nn.BatchNorm2d(128),\n",
        "            nn.ReLU(True),\n",
        "            nn.ConvTranspose2d(128,64,4,2,1),\n",
        "            nn.BatchNorm2d(64)\n",
        "            ,nn.ReLU(True),\n",
        "            nn.ConvTranspose2d(64,1,4,2,1),\n",
        "\n",
        "            nn.Tanh())  # BUG missing Tanh\n",
        "    def forward(self,z):\n",
        "       z=z.view(z.size(0),100,1,1);\n",
        "       return self.net(z)  # BUG reshape\n",
        "Dnet=D().to(device); Gnet=G().to(device)\n",
        "crit=nn.BCEWithLogitsLoss();\n",
        "opt_d=torch.optim.Adam(Dnet.parameters(),lr=d_lr,betas=(0.9,0.999));\n",
        "opt_g=torch.optim.Adam(Gnet.parameters(),lr=g_lr,betas=(0.9,0.999))"
      ],
      "metadata": {
        "id": "nx9CKCOdSy8O"
      },
      "id": "nx9CKCOdSy8O",
      "execution_count": 73,
      "outputs": []
    },
    {
      "cell_type": "markdown",
      "source": [],
      "metadata": {
        "id": "0qtYRf99OwLy"
      },
      "id": "0qtYRf99OwLy"
    },
    {
      "cell_type": "code",
      "metadata": {
        "colab": {
          "base_uri": "https://localhost:8080/"
        },
        "id": "L1WKLwO7OXek",
        "outputId": "136dc345-4c8b-4411-f380-9cb52ea6f08c"
      },
      "execution_count": 79,
      "outputs": [
        {
          "output_type": "stream",
          "name": "stderr",
          "text": [
            "\r  0%|          | 0/235 [00:00<?, ?it/s]/usr/local/lib/python3.12/dist-packages/torch/utils/data/dataloader.py:666: UserWarning: 'pin_memory' argument is set as true but no accelerator is found, then device pinned memory won't be used.\n",
            "  warnings.warn(warn_msg)\n",
            "100%|██████████| 235/235 [03:27<00:00,  1.13it/s]"
          ]
        },
        {
          "output_type": "stream",
          "name": "stdout",
          "text": [
            "Now fix all the issues.\n"
          ]
        },
        {
          "output_type": "stream",
          "name": "stderr",
          "text": [
            "\n"
          ]
        }
      ],
      "source": [
        "from tqdm import tqdm\n",
        "for real,_ in tqdm(loader):\n",
        "    real=real.to(device); b=real.size(0)\n",
        "    # Train Discriminator\n",
        "    opt_d.zero_grad()\n",
        "    z=torch.randn(b,z_dim,device=device); fake=Gnet(z)\n",
        "    loss_d=crit(Dnet(real),torch.ones(b,1,device=device))+crit(Dnet(fake.detach()),torch.zeros(b,1,device=device)) # Corrected labels and detached fake\n",
        "    loss_d.backward(); opt_d.step() # Stepping Discriminator optimizer\n",
        "\n",
        "    # Train Generator\n",
        "    opt_g.zero_grad()\n",
        "    z=torch.randn(b,z_dim,device=device); fake=Gnet(z)\n",
        "    loss_g=crit(Dnet(fake),torch.ones(b,1,device=device)) # Corrected to use non-saturating loss\n",
        "    loss_g.backward(); opt_g.step() # Stepping Generator optimizer\n",
        "\n",
        "print('Now fix all the issues.')"
      ],
      "id": "L1WKLwO7OXek"
    }
  ],
  "metadata": {
    "kernelspec": {
      "name": "python3",
      "display_name": "Python 3",
      "language": "python"
    },
    "colab": {
      "provenance": [],
      "toc_visible": true,
      "include_colab_link": true
    }
  },
  "nbformat": 4,
  "nbformat_minor": 5
}