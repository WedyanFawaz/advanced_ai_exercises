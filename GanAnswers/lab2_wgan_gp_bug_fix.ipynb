{
  "cells": [
    {
      "cell_type": "markdown",
      "metadata": {
        "id": "view-in-github",
        "colab_type": "text"
      },
      "source": [
        "<a href=\"https://colab.research.google.com/github/WedyanFawaz/advanced_ai_exercises/blob/main/lab2_wgan_gp_bug_fix.ipynb\" target=\"_parent\"><img src=\"https://colab.research.google.com/assets/colab-badge.svg\" alt=\"Open In Colab\"/></a>"
      ]
    },
    {
      "cell_type": "markdown",
      "id": "87eb231a",
      "metadata": {
        "id": "87eb231a"
      },
      "source": [
        "# WGAN-GP — Bug-Fix Labs - 10 Bugs to Fix"
      ]
    },
    {
      "cell_type": "code",
      "source": [
        "import torch, torchvision\n",
        "import torch.nn as nn\n",
        "import torch.nn.functional as F\n",
        "from torch.utils.data import DataLoader\n",
        "from torchvision import transforms"
      ],
      "metadata": {
        "id": "Kv1V9uEyYshA"
      },
      "id": "Kv1V9uEyYshA",
      "execution_count": 1,
      "outputs": []
    },
    {
      "cell_type": "code",
      "source": [
        "device = torch.device('cuda' if torch.cuda.is_available() else 'cpu')\n",
        "\n",
        "# ---------------------------\n",
        "# Data  (CIFAR-10 32×32)\n",
        "# ---------------------------\n",
        "transform = transforms.Compose([\n",
        "    transforms.Resize(32),\n",
        "    transforms.ToTensor(),\n",
        "    transforms.Normalize([0.5,0.5,0.5],[0.5,0.5,0.5])  # OK for Tanh\n",
        "])"
      ],
      "metadata": {
        "id": "nkrvda5UYveq"
      },
      "id": "nkrvda5UYveq",
      "execution_count": 2,
      "outputs": []
    },
    {
      "cell_type": "code",
      "source": [
        "ds = torchvision.datasets.CIFAR10('./data', train=True, download=True, transform=transform)\n",
        "loader = DataLoader(ds, batch_size=64, shuffle=True, num_workers=2, pin_memory=True, drop_last=True)\n",
        "\n",
        "# ---------------------------\n",
        "# Hyperparams\n",
        "# ---------------------------\n",
        "z_dim = 128\n",
        "g_lr  = 2e-4\n",
        "d_lr  = 2e-4\n",
        "n_critic = 5                      # BUG\n",
        "lambda_gp = 10.0"
      ],
      "metadata": {
        "colab": {
          "base_uri": "https://localhost:8080/"
        },
        "id": "-inX0ZJVYx8m",
        "outputId": "aa92b850-0d83-495a-8d2a-466ca7ce983b"
      },
      "id": "-inX0ZJVYx8m",
      "execution_count": 3,
      "outputs": [
        {
          "output_type": "stream",
          "name": "stderr",
          "text": [
            "100%|██████████| 170M/170M [00:01<00:00, 91.9MB/s]\n"
          ]
        }
      ]
    },
    {
      "cell_type": "code",
      "source": [
        "# ---------------------------\n",
        "# Models\n",
        "# ---------------------------\n",
        "class Critic(nn.Module):\n",
        "    def __init__(self, ch=64):\n",
        "        super().__init__()\n",
        "        self.net = nn.Sequential(\n",
        "            nn.Conv2d(3, ch,   4, 2, 1),\n",
        "            nn.LeakyReLU(0.2, True),\n",
        "            nn.Conv2d(ch, ch*2, 4, 2, 1),\n",
        "            nn.InstanceNorm2d(ch*2, affine=True),\n",
        "            nn.LeakyReLU(0.2, True),\n",
        "            nn.Conv2d(ch*2, ch*4, 4, 2, 1),\n",
        "            nn.InstanceNorm2d(ch*4, affine=True),\n",
        "            nn.LeakyReLU(0.2, True),\n",
        "            nn.Conv2d(ch*4, 1, 4, 1, 0),\n",
        "\n",
        "        )\n",
        "    def forward(self, x): return self.net(x).view(x.size(0))\n",
        "\n",
        "class Gen(nn.Module):\n",
        "    def __init__(self, z=128, ch=64):\n",
        "        super().__init__()\n",
        "        self.net = nn.Sequential(\n",
        "            nn.ConvTranspose2d(z,   ch*4, 4, 1, 0, bias=False), nn.BatchNorm2d(ch*4), nn.ReLU(True),\n",
        "            nn.ConvTranspose2d(ch*4, ch*2, 4, 2, 1, bias=False), nn.BatchNorm2d(ch*2), nn.ReLU(True),\n",
        "            nn.ConvTranspose2d(ch*2, ch,   4, 2, 1, bias=False), nn.BatchNorm2d(ch),   nn.ReLU(True),\n",
        "            nn.ConvTranspose2d(ch,   3,    4, 2, 1, bias=False), nn.Tanh()\n",
        "        )\n",
        "    def forward(self, z): return self.net(z.view(z.size(0), z.size(1), 1, 1))\n",
        "\n",
        "D = Critic().to(device)\n",
        "G = Gen(z_dim).to(device)"
      ],
      "metadata": {
        "id": "wTTIJsZmY3Se"
      },
      "id": "wTTIJsZmY3Se",
      "execution_count": 4,
      "outputs": []
    },
    {
      "cell_type": "code",
      "source": [
        "# ---------------------------\n",
        "# Loss placeholders & Optimizers (WRONG for WGAN… intentionally)\n",
        "# ---------------------------\n",
        "bce = nn.BCEWithLogitsLoss()      # BUG\n",
        "\n",
        "def d_c(d_real, d_fake):\n",
        "  return torch.mean(d_fake) - torch.mean(d_real)\n",
        "\n",
        "def g_c(d_fake):\n",
        "  return -torch.mean(d_fake)\n",
        "\n",
        "optG = torch.optim.Adam(G.parameters(), lr=g_lr, betas=(0.0, 0.9))   #change it to 0.0 to 0.9\n",
        "optD = torch.optim.Adam(D.parameters(), lr=d_lr, betas=(0.0, 0.9))   # BUG\n"
      ],
      "metadata": {
        "id": "_cbXgkoXY7fl"
      },
      "id": "_cbXgkoXY7fl",
      "execution_count": 8,
      "outputs": []
    },
    {
      "cell_type": "code",
      "source": [
        "# ---------------------------\n",
        "# Broken gradient penalty\n",
        "# ---------------------------\n",
        "def gradient_penalty(Dnet, real, fake):\n",
        "    b = real.size(0)\n",
        "    eps = torch.randn(b,1,1,1, device=real.device)             # dim\n",
        "    x_hat = eps*real + (1-eps)*fake\n",
        "    x_hat.requires_grad_(True)\n",
        "    d_hat = Dnet(x_hat)\n",
        "    grads = torch.autograd.grad(d_hat.sum(), x_hat, retain_graph=True)[0]    # real to x_hat\n",
        "    gp = lambda_gp * (grads.view(b, -1).norm(dim=1) - 1.0).mean()            # sum to norm\n",
        "    return gp\n"
      ],
      "metadata": {
        "id": "GCvEaI6wY9qu"
      },
      "id": "GCvEaI6wY9qu",
      "execution_count": 9,
      "outputs": []
    },
    {
      "cell_type": "markdown",
      "source": [],
      "metadata": {
        "id": "duZEq7otY5oq"
      },
      "id": "duZEq7otY5oq"
    },
    {
      "cell_type": "code",
      "execution_count": 11,
      "id": "f702ab75",
      "metadata": {
        "colab": {
          "base_uri": "https://localhost:8080/"
        },
        "id": "f702ab75",
        "outputId": "c62e8cb2-c19a-4878-e642-fb9b6af94690"
      },
      "outputs": [
        {
          "output_type": "stream",
          "name": "stderr",
          "text": [
            "/usr/local/lib/python3.12/dist-packages/torch/utils/data/dataloader.py:666: UserWarning: 'pin_memory' argument is set as true but no accelerator is found, then device pinned memory won't be used.\n",
            "  warnings.warn(warn_msg)\n"
          ]
        },
        {
          "output_type": "stream",
          "name": "stdout",
          "text": [
            "Your task: fix all bugs until the WGAN-GP training runs stably.\n"
          ]
        }
      ],
      "source": [
        "\n",
        "# ---------------------------\n",
        "# Training loop (intentionally wrong)\n",
        "# ---------------------------\n",
        "for step, (real, _) in enumerate(loader):\n",
        "    real = real.to(device)\n",
        "    b = real.size(0)\n",
        "\n",
        "    # -- Critic updates --\n",
        "    for _ in range(n_critic):                    # BUG\n",
        "        z = torch.randn(b, z_dim, device=device)\n",
        "        fake = G(z).detach()                              # BUG\n",
        "\n",
        "        # WRONG\n",
        "        d_real = D(real)\n",
        "        d_fake = D(fake)\n",
        "\n",
        "        lossD = torch.mean(d_fake) - torch.mean(d_real) +\\\n",
        "                gradient_penalty(D, real, fake)\n",
        "\n",
        "\n",
        "\n",
        "        optD.zero_grad()\n",
        "        lossD.backward()\n",
        "        optD.step()                              # BUG\n",
        "        # (also missing)\n",
        "\n",
        "        # BUG\n",
        "        # for p in D.parameters():\n",
        "        #     p.data.clamp_(-0.01, 0.01)\n",
        "\n",
        "    # -- Generator update --\n",
        "    z = torch.randn(b, z_dim, device=device)\n",
        "    fake = G(z)\n",
        "    # WRONG\n",
        "    lossG = -torch.mean(D(fake))   # BUG\\\n",
        "    optG.zero_grad()\n",
        "    lossG.backward()\n",
        "    optG.step()                              # BUG\n",
        "\n",
        "    if step > 10:   # keep the broken demo short\n",
        "        break\n",
        "\n",
        "print(\"Your task: fix all bugs until the WGAN-GP training runs stably.\")\n"
      ]
    }
  ],
  "metadata": {
    "kernelspec": {
      "display_name": "Python 3",
      "language": "python",
      "name": "python3"
    },
    "colab": {
      "provenance": [],
      "include_colab_link": true
    }
  },
  "nbformat": 4,
  "nbformat_minor": 5
}
