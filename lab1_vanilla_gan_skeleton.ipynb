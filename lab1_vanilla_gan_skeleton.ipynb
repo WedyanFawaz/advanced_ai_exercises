{
  "cells": [
    {
      "cell_type": "markdown",
      "metadata": {
        "id": "view-in-github",
        "colab_type": "text"
      },
      "source": [
        "<a href=\"https://colab.research.google.com/github/WedyanFawaz/advanced_ai_exercises/blob/main/lab1_vanilla_gan_skeleton.ipynb\" target=\"_parent\"><img src=\"https://colab.research.google.com/assets/colab-badge.svg\" alt=\"Open In Colab\"/></a>"
      ]
    },
    {
      "cell_type": "markdown",
      "metadata": {
        "id": "xy4ny4ASbd_-"
      },
      "source": [
        "# Lab 1: Vanilla GAN (Goodfellow) — Skeleton"
      ],
      "id": "xy4ny4ASbd_-"
    },
    {
      "cell_type": "code",
      "metadata": {
        "colab": {
          "base_uri": "https://localhost:8080/"
        },
        "id": "o4V1F35Ybd__",
        "outputId": "37c4c8dd-bb33-4ae8-c7e5-64e80a181781"
      },
      "execution_count": 1,
      "outputs": [
        {
          "output_type": "stream",
          "name": "stderr",
          "text": [
            "100%|██████████| 9.91M/9.91M [00:00<00:00, 36.7MB/s]\n",
            "100%|██████████| 28.9k/28.9k [00:00<00:00, 1.21MB/s]\n",
            "100%|██████████| 1.65M/1.65M [00:00<00:00, 10.1MB/s]\n",
            "100%|██████████| 4.54k/4.54k [00:00<00:00, 5.99MB/s]\n"
          ]
        }
      ],
      "source": [
        "import torch, torchvision, torch.nn as nn\n",
        "from torch.utils.data import DataLoader\n",
        "from torchvision import transforms\n",
        "from torchvision.utils import make_grid\n",
        "import math\n",
        "\n",
        "device=torch.device('cuda' if torch.cuda.is_available() else 'cpu')\n",
        "batch_size=128; z_dim=64; g_lr=d_lr=2e-4; num_epochs=3\n",
        "transform=transforms.Compose([transforms.ToTensor(), transforms.Normalize((0.5,), (0.5,))])\n",
        "train_ds=torchvision.datasets.MNIST('./data',True,download=True,transform=transform)\n",
        "train_loader=DataLoader(train_ds,batch_size=batch_size,shuffle=True,num_workers=2,pin_memory=True)"
      ],
      "id": "o4V1F35Ybd__"
    },
    {
      "cell_type": "code",
      "metadata": {
        "id": "qk31mul0beAA"
      },
      "execution_count": 30,
      "outputs": [],
      "source": [
        "class Generator(nn.Module):\n",
        "    def __init__(self, z_dim=100):\n",
        "        super().__init__()\n",
        "        self.net = nn.Sequential(\n",
        "            nn.ConvTranspose2d(z_dim, 128, 7, 1, 0),\n",
        "            nn.BatchNorm2d(128),\n",
        "            nn.ReLU(True),\n",
        "            nn.ConvTranspose2d(128, 64, 4, 2, 1),\n",
        "            nn.BatchNorm2d(64),\n",
        "            nn.ReLU(True),\n",
        "            nn.ConvTranspose2d(64, 1, 4, 2, 1),\n",
        "            nn.Tanh()\n",
        "        )\n",
        "\n",
        "    def forward(self, z):\n",
        "        z = z.view(z.size(0), z.size(1), 1, 1)\n",
        "        return self.net(z)\n",
        "\n",
        "class Discriminator(nn.Module):\n",
        "    def __init__(self):\n",
        "        super().__init__()\n",
        "        self.net = nn.Sequential(\n",
        "            nn.Conv2d(1, 64, 4, 2, 1),\n",
        "            nn.LeakyReLU(0.2, inplace=True),\n",
        "            nn.Conv2d(64, 128, 4, 2, 1),\n",
        "            nn.BatchNorm2d(128),\n",
        "            nn.LeakyReLU(0.2, inplace=True),\n",
        "            nn.Flatten(),\n",
        "            nn.Linear(128*7*7, 1),\n",
        "            nn.Sigmoid()\n",
        "        )\n",
        "\n",
        "    def forward(self, x):\n",
        "        return self.net(x)"
      ],
      "id": "qk31mul0beAA"
    },
    {
      "cell_type": "code",
      "metadata": {
        "id": "jMQufF-PbeAA"
      },
      "execution_count": 31,
      "outputs": [],
      "source": [
        "criterion=nn.BCEWithLogitsLoss()\n",
        "G=Generator(z_dim).to(device); D=Discriminator().to(device)\n",
        "opt_g=torch.optim.Adam(G.parameters(),lr=g_lr,betas=(0.5,0.999))\n",
        "opt_d=torch.optim.Adam(D.parameters(),lr=d_lr,betas=(0.5,0.999))"
      ],
      "id": "jMQufF-PbeAA"
    },
    {
      "cell_type": "code",
      "metadata": {
        "id": "bHluJNZnbeAA"
      },
      "execution_count": 32,
      "outputs": [],
      "source": [
        "@torch.no_grad()\n",
        "def sample_grid(G,n=16):\n",
        "    z=torch.randn(n,64,device=device).view(n,64,1,1)\n",
        "    fake=G(z).cpu()\n",
        "    return make_grid(fake,nrow=int(math.sqrt(n)),normalize=True,value_range=(-1,1))"
      ],
      "id": "bHluJNZnbeAA"
    },
    {
      "cell_type": "code",
      "metadata": {
        "id": "1otQGLAUbeAB"
      },
      "execution_count": 33,
      "outputs": [],
      "source": [
        "def train_discriminator_step(real):\n",
        "    # TODO: Goodfellow D loss with detach on fake\n",
        "    b=real.size(0)\n",
        "    opt_d.zero_grad()\n",
        "    z=torch.randn(b,z_dim,device=device);\n",
        "    fake=G(z)\n",
        "    loss_d=criterion(D(real),torch.ones(b,1,device=device))+criterion(D(fake.detach()),torch.zeros(b,1,device=device)) # Corrected labels and detached fake\n",
        "    loss_d.backward(); opt_d.step() # Stepping Discriminator optimizer\n",
        "\n",
        "def train_generator_step(b):\n",
        "    opt_g.zero_grad()\n",
        "    z=torch.randn(b,z_dim,device=device); fake=G(z)\n",
        "    loss_g=criterion(D(fake),torch.ones(b,1,device=device)) # Corrected to use non-saturating loss\n",
        "    loss_g.backward(); opt_g.step() # Stepping Generator optimizer"
      ],
      "id": "1otQGLAUbeAB"
    },
    {
      "cell_type": "code",
      "metadata": {
        "colab": {
          "base_uri": "https://localhost:8080/"
        },
        "id": "Z27g4dCYbeAB",
        "outputId": "aa10b958-200a-4054-8a64-03cbdb7ca6a0"
      },
      "execution_count": null,
      "outputs": [
        {
          "output_type": "stream",
          "name": "stderr",
          "text": [
            "100%|██████████| 469/469 [06:23<00:00,  1.22it/s, d_loss=None, g_loss=None]\n",
            " 92%|█████████▏| 430/469 [05:53<00:37,  1.04it/s, d_loss=None, g_loss=None]"
          ]
        }
      ],
      "source": [
        "from tqdm import tqdm\n",
        "for epoch in range(num_epochs):\n",
        "    pbar=tqdm(train_loader)\n",
        "    for real,_ in pbar:\n",
        "        real=real.to(device)\n",
        "        d=train_discriminator_step(real)\n",
        "        g=train_generator_step(real.size(0))\n",
        "        pbar.set_postfix(d_loss=d,g_loss=g)\n",
        "print('Done')"
      ],
      "id": "Z27g4dCYbeAB"
    }
  ],
  "metadata": {
    "kernelspec": {
      "name": "python3",
      "display_name": "Python 3",
      "language": "python"
    },
    "colab": {
      "provenance": [],
      "include_colab_link": true
    }
  },
  "nbformat": 4,
  "nbformat_minor": 5
}